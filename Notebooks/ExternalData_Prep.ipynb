{
 "cells": [
  {
   "cell_type": "markdown",
   "id": "e732b622-cc79-4c19-b041-db8793638899",
   "metadata": {},
   "source": [
    "### Imports"
   ]
  },
  {
   "cell_type": "code",
   "id": "02918321-9e92-43ca-8aff-ced3977ce0c9",
   "metadata": {
    "ExecuteTime": {
     "end_time": "2025-07-02T10:18:27.045183Z",
     "start_time": "2025-07-02T10:18:26.508227Z"
    }
   },
   "source": "import pandas as pd",
   "outputs": [],
   "execution_count": 1
  },
  {
   "metadata": {},
   "cell_type": "markdown",
   "source": "### Oil Prices",
   "id": "fb3679b4cbe4f647"
  },
  {
   "metadata": {
    "ExecuteTime": {
     "end_time": "2025-07-02T10:23:56.356316Z",
     "start_time": "2025-07-02T10:23:56.288427Z"
    }
   },
   "cell_type": "code",
   "source": "df_oil = pd.read_excel('../Data/external/oil_eia.xlsx', sheet_name='1')",
   "id": "bba6989d1d00d5bf",
   "outputs": [],
   "execution_count": 13
  },
  {
   "metadata": {
    "ExecuteTime": {
     "end_time": "2025-07-02T10:23:56.531459Z",
     "start_time": "2025-07-02T10:23:56.499785Z"
    }
   },
   "cell_type": "code",
   "source": [
    "df_oil = df_oil.iloc[24:109, 1:]\n",
    "df_oil.columns = df_oil.iloc[0]\n",
    "df_oil = df_oil.drop(df_oil.index[0]).reset_index(drop=True)"
   ],
   "id": "9207af275c43cef4",
   "outputs": [],
   "execution_count": 14
  },
  {
   "metadata": {
    "ExecuteTime": {
     "end_time": "2025-07-02T10:24:58.310567Z",
     "start_time": "2025-07-02T10:24:58.279247Z"
    }
   },
   "cell_type": "code",
   "source": [
    "oil = df_oil[['Month', 'Historical Price', 'STEO Forecast']].copy()\n",
    "oil['Month'] = pd.to_datetime(oil['Month'])\n",
    "\n",
    "oil['Oil Price'] = oil['Historical Price'].combine_first(oil['STEO Forecast'])\n",
    "\n",
    "oil['Oil Price Lag3'] = oil['Oil Price'].shift(3)\n",
    "\n",
    "oil_clean = oil[['Month', 'Oil Price Lag3']].dropna().sort_values('Month').reset_index(drop=True)"
   ],
   "id": "26422642e66b3ee1",
   "outputs": [],
   "execution_count": 16
  },
  {
   "metadata": {
    "ExecuteTime": {
     "end_time": "2025-07-02T10:27:55.367507Z",
     "start_time": "2025-07-02T10:27:55.335426Z"
    }
   },
   "cell_type": "code",
   "source": "oil_clean.to_csv('../Data/processed/oil_monthly_lag3.csv', index=False)",
   "id": "e81cdb642815589c",
   "outputs": [],
   "execution_count": 19
  }
 ],
 "metadata": {
  "kernelspec": {
   "display_name": "Python 3 (ipykernel)",
   "language": "python",
   "name": "python3"
  },
  "language_info": {
   "codemirror_mode": {
    "name": "ipython",
    "version": 3
   },
   "file_extension": ".py",
   "mimetype": "text/x-python",
   "name": "python",
   "nbconvert_exporter": "python",
   "pygments_lexer": "ipython3",
   "version": "3.10.10"
  }
 },
 "nbformat": 4,
 "nbformat_minor": 5
}
